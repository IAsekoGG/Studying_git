{
 "cells": [
  {
   "cell_type": "code",
   "execution_count": 26,
   "metadata": {
    "collapsed": true,
    "pycharm": {
     "name": "#%%\n"
    }
   },
   "outputs": [
    {
     "name": "stdout",
     "output_type": "stream",
     "text": [
      "a1: 0.15387610176377672\n",
      "a2: 3.13917380273959\n",
      "p1: 0.32\n",
      "p2: 0.6799999999999999\n"
     ]
    }
   ],
   "source": [
    "import numpy as np\n",
    "\n",
    "def generate_sequence(n=100):\n",
    "    a1, a2 = 1, 2\n",
    "    p_k1, p_k2 = 0.5, 0.5\n",
    "    variance = 1\n",
    "    x = []\n",
    "    for _ in range(n):\n",
    "        if np.random.rand() < 1/3:\n",
    "            # State k=1\n",
    "            x.append(np.random.normal(0, np.sqrt(variance)))\n",
    "        else:\n",
    "            # State k=2\n",
    "            x.append(np.random.normal(3, np.sqrt(variance)))\n",
    "\n",
    "    while True:\n",
    "        p_k1_est = sum([1 for xi in x if xi < 1.5]) / n\n",
    "        p_k2_est = 1 - p_k1_est\n",
    "\n",
    "        a1_est = sum([xi for xi in x if xi < 1.5]) / sum([1 for xi in x if xi < 1.5])\n",
    "        a2_est = sum([xi for xi in x if xi >= 1.5]) / sum([1 for xi in x if xi >= 1.5])\n",
    "\n",
    "        if abs(a1 - a1_est) < 0.001 and abs(a2 - a2_est) < 0.001 and abs(p_k1 - p_k1_est) < 0.001 and abs(p_k2 - p_k2_est) < 0.001:\n",
    "            break\n",
    "\n",
    "        a1, a2 = a1_est, a2_est\n",
    "        p_k1, p_k2 = p_k1_est, p_k2_est\n",
    "\n",
    "    return x, (a1, a2), (p_k1, p_k2)\n",
    "\n",
    "\n",
    "generated_sequence, final_means, final_probabilities = generate_sequence(n=100)\n",
    "final_means, final_probabilities\n",
    "print(\"a1:\",final_means[0])\n",
    "print(\"a2:\",final_means[1])\n",
    "print(\"p1:\",final_probabilities[0])\n",
    "print(\"p2:\",final_probabilities[1])"
   ]
  }
 ],
 "metadata": {
  "kernelspec": {
   "display_name": "Python 3",
   "language": "python",
   "name": "python3"
  },
  "language_info": {
   "codemirror_mode": {
    "name": "ipython",
    "version": 2
   },
   "file_extension": ".py",
   "mimetype": "text/x-python",
   "name": "python",
   "nbconvert_exporter": "python",
   "pygments_lexer": "ipython2",
   "version": "2.7.6"
  }
 },
 "nbformat": 4,
 "nbformat_minor": 0
}