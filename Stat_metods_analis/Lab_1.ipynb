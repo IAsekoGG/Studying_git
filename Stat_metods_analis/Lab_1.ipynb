{
 "cells": [
  {
   "cell_type": "code",
   "execution_count": 8,
   "outputs": [
    {
     "name": "stdout",
     "output_type": "stream",
     "text": [
      "початкова послідовність: [1, 1, 0, 0, 1, 1, 1, 1, 1, 1]\n",
      "змінена послідовність: [1, 1, 1, 1, 1, 0, 1, 0, 1, 1]\n",
      "передбачена сума: 5\n",
      "штрафна функція: 9\n"
     ]
    }
   ],
   "source": [
    "import random\n",
    "import itertools\n",
    "import numpy as np\n",
    "\n",
    "def calculate_penalty(original_sum, changed_sum):\n",
    "    \"\"\"Calculate the penalty function based on the difference in sums.\"\"\"\n",
    "    return (original_sum - changed_sum) ** 2\n",
    "\n",
    "def generate_sequences(length, change_probability):\n",
    "    \"\"\"Generate an original and a changed sequence based on the given parameters.\"\"\"\n",
    "    original_seq = [random.choice([0, 1]) for _ in range(length)]\n",
    "    changed_seq = [1 - digit if random.random() < change_probability else digit for digit in original_seq]\n",
    "    return original_seq, changed_seq\n",
    "\n",
    "def calculate_optimal_sum_and_penalty(changed_seq, change_probability):\n",
    "    \"\"\"Calculate the optimal sum and penalty for the given changed sequence.\"\"\"\n",
    "    length = len(changed_seq)\n",
    "    sum_changed_seq = sum(changed_seq)\n",
    "\n",
    "    # Calculate expected sum for the original sequence\n",
    "    expected_sum_original = sum_changed_seq * (1 - change_probability) + (length - sum_changed_seq) * change_probability\n",
    "\n",
    "    # Round to the nearest integer as the original sum must be an integer\n",
    "    optimal_sum = round(expected_sum_original)\n",
    "\n",
    "    # Calculate the penalty\n",
    "    penalty = calculate_penalty(optimal_sum, sum_changed_seq)\n",
    "\n",
    "    return optimal_sum, penalty\n",
    "\n",
    "# Example usage\n",
    "length = 10\n",
    "change_probability = 0.5\n",
    "original_seq, changed_seq = generate_sequences(length, change_probability)\n",
    "optimal_sum, penalty = calculate_optimal_sum_and_penalty(changed_seq, change_probability)\n",
    "\n",
    "original_seq, changed_seq, optimal_sum, penalty\n",
    "print(\"початкова послідовність:\",original_seq)\n",
    "print(\"змінена послідовність:\",changed_seq)\n",
    "print(\"передбачена сума:\",optimal_sum)\n",
    "print(\"штрафна функція:\",penalty)"
   ],
   "metadata": {
    "collapsed": false,
    "pycharm": {
     "name": "#%%\n"
    }
   }
  },
  {
   "cell_type": "code",
   "execution_count": 9,
   "outputs": [
    {
     "name": "stdout",
     "output_type": "stream",
     "text": [
      "Середня штрафна функція: 2.19\n"
     ]
    }
   ],
   "source": [
    "k = 100\n",
    "pen=0\n",
    "for _ in range(k):\n",
    "    original_seq, changed_seq = generate_sequences(length, change_probability)\n",
    "    optimal_sum, penalty = calculate_optimal_sum_and_penalty(changed_seq, change_probability)\n",
    "    pen+=penalty\n",
    "    # if optimal_sum!=5:\n",
    "    #     print(original_seq)\n",
    "    #     print(changed_seq)\n",
    "    #     print(optimal_sum)\n",
    "print(\"Середня штрафна функція:\", pen/k)"
   ],
   "metadata": {
    "collapsed": false,
    "pycharm": {
     "name": "#%%\n"
    }
   }
  }
 ],
 "metadata": {
  "kernelspec": {
   "display_name": "Python 3",
   "language": "python",
   "name": "python3"
  },
  "language_info": {
   "codemirror_mode": {
    "name": "ipython",
    "version": 2
   },
   "file_extension": ".py",
   "mimetype": "text/x-python",
   "name": "python",
   "nbconvert_exporter": "python",
   "pygments_lexer": "ipython2",
   "version": "2.7.6"
  }
 },
 "nbformat": 4,
 "nbformat_minor": 0
}