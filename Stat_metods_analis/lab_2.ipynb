{
 "cells": [
  {
   "cell_type": "code",
   "execution_count": 31,
   "metadata": {
    "collapsed": true,
    "pycharm": {
     "name": "#%%\n"
    }
   },
   "outputs": [],
   "source": [
    "import numpy as np\n",
    "import time\n",
    "from scipy.spatial import ConvexHull\n",
    "import numpy as np\n",
    "from scipy.spatial import ConvexHull"
   ]
  },
  {
   "cell_type": "code",
   "execution_count": 1,
   "outputs": [
    {
     "name": "stdout",
     "output_type": "stream",
     "text": [
      "Розділяючий вектор: [3.0369107  1.96342877 2.62271691]\n"
     ]
    }
   ],
   "source": [
    "tok= time.time()\n",
    "def generate_vectors(n):\n",
    "    \"\"\"\n",
    "    Generates n 3D independent vectors.\n",
    "    The first two coordinates are exponentially distributed with parameter 1,\n",
    "    and the third coordinate follows a standard normal distribution.\n",
    "    \"\"\"\n",
    "    first_two_coords = np.random.exponential(scale=1, size=(n, 2))\n",
    "    third_coord = np.random.normal(size=(n, 1))\n",
    "    vectors = np.hstack((first_two_coords, third_coord))\n",
    "    return vectors\n",
    "\n",
    "def kozinec_algorithm(points):\n",
    "    \"\"\"\n",
    "    Applies Kozinec's algorithm to find a separating vector from the convex hull of the given points.\n",
    "    \"\"\"\n",
    "    hull = ConvexHull(points)\n",
    "    vertices = points[hull.vertices]  # Extracting the vertices of the convex hull\n",
    "\n",
    "    # Initialize the separating vector with zeros\n",
    "    w = np.zeros(vertices.shape[1])\n",
    "\n",
    "    # Kozinec's algorithm updates\n",
    "    for point in vertices:\n",
    "        if np.dot(w, point) <= 1:\n",
    "            w += (1 - np.dot(w, point)) * point / np.linalg.norm(point)**2\n",
    "\n",
    "    return w\n",
    "\n",
    "# Number of vectors to generate\n",
    "N = 50\n",
    "\n",
    "# Generate vectors\n",
    "vectors = generate_vectors(N)\n",
    "\n",
    "# Apply Kozinec's algorithm\n",
    "separating_vector = kozinec_algorithm(vectors)\n",
    "if separating_vector is not None:\n",
    "    print(\"Розділяючий вектор:\", separating_vector)\n",
    "else:\n",
    "    print(\"Розділення неможливе.\")\n",
    "\n",
    "tik= time.time()\n",
    "print(\"Час роботи:\",(tik-tok)/100)"
   ],
   "metadata": {
    "collapsed": false,
    "pycharm": {
     "name": "#%%\n"
    }
   }
  }
 ],
 "metadata": {
  "kernelspec": {
   "display_name": "Python 3",
   "language": "python",
   "name": "python3"
  },
  "language_info": {
   "codemirror_mode": {
    "name": "ipython",
    "version": 2
   },
   "file_extension": ".py",
   "mimetype": "text/x-python",
   "name": "python",
   "nbconvert_exporter": "python",
   "pygments_lexer": "ipython2",
   "version": "2.7.6"
  }
 },
 "nbformat": 4,
 "nbformat_minor": 0
}